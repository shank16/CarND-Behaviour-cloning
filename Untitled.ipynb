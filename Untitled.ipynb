{
 "cells": [
  {
   "cell_type": "code",
   "execution_count": null,
   "metadata": {},
   "outputs": [],
   "source": [
    "import csv\n",
    "import cv2\n",
    "import numpy as np\n",
    "\n",
    "lines =[]\n",
    "\n",
    "with open('savedata/driving_log.csv') as csvfile:\n",
    "    reader=csv.reader(csvfile)\n",
    "    for line in reader:\n",
    "        lines.append(line)\n",
    "images=[]\n",
    "measurements=[]\n",
    "for line in (lines):\n",
    "    for i in range(3):\n",
    "        source_path = line[i]\n",
    "        file_name = source_path.split('/')[-1]\n",
    "        current_path ='savedata/IMG/' + file_name\n",
    "        image = cv2.imread(current_path)\n",
    "        images.append(image)\n",
    "    measurementc = float (line[3])\n",
    "    measurementl = measurementc + 0.15\n",
    "    measurementr = measurementc - 0.2\n",
    "    measurements.append(measurementc)\n",
    "    measurements.append(measurementl)\n",
    "    measurements.append(measurementr)\n",
    "    \n",
    "\n",
    "augmented_images=[]\n",
    "augmented_measurements = []\n",
    "\n",
    "for image,measurement in zip(images, measurements):\n",
    "    augmented_images.append(image)\n",
    "    augmented_measurements.append(measurement)\n",
    "    augmented_images.append(cv2.flip(image,1))\n",
    "    augmented_measurements.append(measurement*-1.0)\n",
    "\n",
    "\n",
    "    \n",
    "X_train = np.array(augmented_images)\n",
    "y_train = np.array(augmented_measurements)\n",
    "print(X_train.shape)\n",
    "print(y_train.shape)"
   ]
  },
  {
   "cell_type": "code",
   "execution_count": 1,
   "metadata": {},
   "outputs": [],
   "source": [
    "import csv\n",
    "import cv2\n",
    "import numpy as np\n",
    "import sklearn\n",
    "import os\n",
    "\n",
    "lines =[]\n",
    "\n",
    "\n",
    "with open('data1/driving_log.csv') as csvfile:\n",
    "    reader=csv.reader(csvfile)\n",
    "    for line in reader:\n",
    "        lines.append(line)\n",
    "        \n",
    "sampels= lines[1:]        \n",
    "from sklearn.model_selection import train_test_split\n",
    "train_samples, validation_samples = train_test_split(sampels, test_size=0.2)\n",
    "\n",
    "\n",
    "def generator(sampels, batch_size=32):\n",
    "    num_samples = len(sampels)\n",
    "    while 1: # Loop forever so the generator never terminates\n",
    "        #shuffle(lines)\n",
    "        for offset in range(0, num_samples, batch_size):\n",
    "            batch_samples = sampels[offset:offset+batch_size]\n",
    "\n",
    "            images = []\n",
    "            angles = []\n",
    "            for batch_sample in batch_samples:\n",
    "                name = 'data1/IMG/'+batch_sample[0].split('/')[-1]\n",
    "                image = cv2.imread(name)\n",
    "                center_image= preprocess_image(image)\n",
    "                center_angle = float(batch_sample[3])\n",
    "                images.append(center_image)\n",
    "                angles.append(center_angle)\n",
    "                name = 'data1/IMG/'+batch_sample[1].split('/')[-1]\n",
    "                image2 = cv2.imread(name)\n",
    "                left_image= preprocess_image(image2)\n",
    "                images.append(left_image)\n",
    "                left_angle = center_angle  + 0.1\n",
    "                angles.append(left_angle)\n",
    "                name = 'data1/IMG/'+batch_sample[2].split('/')[-1]\n",
    "                image3 = cv2.imread(name)\n",
    "                right_image= preprocess_image(image3)\n",
    "                images.append(right_image)\n",
    "                right_angle = center_angle -0.15\n",
    "                angles.append(right_angle)\n",
    "                \n",
    "\n",
    "            # trim image to only see section with road\n",
    "            X_train = np.array(images)\n",
    "            y_train = np.array(angles)\n",
    "            yield sklearn.utils.shuffle(X_train, y_train)\n"
   ]
  },
  {
   "cell_type": "code",
   "execution_count": 2,
   "metadata": {},
   "outputs": [],
   "source": [
    "def preprocess_image(img):\n",
    "    '''\n",
    "    Method for preprocessing images: this method is the same used in drive.py, except this version uses\n",
    "    BGR to YUV and drive.py uses RGB to YUV (due to using cv2 to read the image here, where drive.py images are \n",
    "    received in RGB)\n",
    "    '''\n",
    "\n",
    "    # crop to 40x320x3\n",
    "    new_img = img[30:140,:,:]\n",
    "    # apply subtle blur\n",
    "    new_img = cv2.GaussianBlur(new_img, (3,3), 0)\n",
    "    # scale to 66x200x3 \n",
    "    new_img = cv2.resize(new_img,(200, 66), interpolation = cv2.INTER_AREA)\n",
    "    # convert to YUV color space (as nVidia paper suggests)\n",
    "    new_img = cv2.cvtColor(new_img, cv2.COLOR_BGR2YUV)\n",
    "    return new_img"
   ]
  },
  {
   "cell_type": "code",
   "execution_count": 3,
   "metadata": {},
   "outputs": [],
   "source": [
    "train_generator = generator(train_samples, batch_size=32)\n",
    "validation_generator = generator(validation_samples, batch_size=32)"
   ]
  },
  {
   "cell_type": "code",
   "execution_count": 4,
   "metadata": {
    "scrolled": true
   },
   "outputs": [
    {
     "name": "stderr",
     "output_type": "stream",
     "text": [
      "Using TensorFlow backend.\n"
     ]
    },
    {
     "name": "stdout",
     "output_type": "stream",
     "text": [
      "Epoch 1/3\n",
      "6432/6516 [============================>.] - ETA: 0s - loss: 0.0242"
     ]
    },
    {
     "name": "stderr",
     "output_type": "stream",
     "text": [
      "/home/shashank/miniconda3/envs/carnd-term1/lib/python3.5/site-packages/keras/engine/training.py:1569: UserWarning: Epoch comprised more than `samples_per_epoch` samples, which might affect learning results. Set `samples_per_epoch` correctly to avoid this warning.\n",
      "  warnings.warn('Epoch comprised more than '\n"
     ]
    },
    {
     "name": "stdout",
     "output_type": "stream",
     "text": [
      "6528/6516 [==============================] - 86s - loss: 0.0240 - val_loss: 0.0131\n",
      "Epoch 2/3\n",
      "6528/6516 [==============================] - 75s - loss: 0.0161 - val_loss: 0.0125\n",
      "Epoch 3/3\n",
      "6516/6516 [==============================] - 80s - loss: 0.0174 - val_loss: 0.0126\n"
     ]
    }
   ],
   "source": [
    "from keras.models import Sequential\n",
    "from keras.layers import Dense, Flatten, Lambda, Cropping2D, Dropout\n",
    "from keras.layers.convolutional import Convolution2D\n",
    "from keras.layers.pooling import MaxPooling2D\n",
    "\n",
    "model = Sequential()\n",
    "model.add(Lambda(lambda x: (x / 255.0) - 0.5, input_shape=(66,200,3)))\n",
    "#model.add(Cropping2D(cropping=((70,20), (0,0))))\n",
    "model.add (Convolution2D(24,5,5, subsample= (2,2), activation=\"elu\"))\n",
    "model.add (Convolution2D(36,5,5, subsample= (2,2), activation=\"elu\"))\n",
    "model.add (Dropout(0.5))\n",
    "model.add (Convolution2D(48,5,5, subsample= (2,2), activation=\"elu\"))\n",
    "model.add (Convolution2D(64,3,3,activation=\"elu\"))\n",
    "model.add( Dropout(0.5))\n",
    "model.add (Convolution2D(64,3,3,activation=\"elu\"))\n",
    "#model.add (MaxPooling2D())\n",
    "model.add (Flatten())\n",
    "model.add (Dense(100))\n",
    "model.add (Dense(50))\n",
    "model.add (Dense(10))\n",
    "model.add (Dense(1))\n",
    "model.compile(loss = 'mse', optimizer = 'adam')\n",
    "model.fit_generator(train_generator, samples_per_epoch =6516, validation_data=validation_generator, nb_val_samples=len(validation_samples), nb_epoch=3)\n",
    "\n",
    "model.save ('modeldata3.h5')\n",
    "\n"
   ]
  },
  {
   "cell_type": "code",
   "execution_count": null,
   "metadata": {},
   "outputs": [],
   "source": []
  }
 ],
 "metadata": {
  "kernelspec": {
   "display_name": "Python 3",
   "language": "python",
   "name": "python3"
  },
  "language_info": {
   "codemirror_mode": {
    "name": "ipython",
    "version": 3
   },
   "file_extension": ".py",
   "mimetype": "text/x-python",
   "name": "python",
   "nbconvert_exporter": "python",
   "pygments_lexer": "ipython3",
   "version": "3.5.2"
  },
  "widgets": {
   "state": {},
   "version": "1.1.2"
  }
 },
 "nbformat": 4,
 "nbformat_minor": 2
}
